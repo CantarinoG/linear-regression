{
 "cells": [
  {
   "cell_type": "code",
   "execution_count": 1,
   "metadata": {},
   "outputs": [],
   "source": [
    "import pandas as pd\n",
    "import numpy as np\n",
    "import matplotlib.pyplot as plt\n",
    "from sklearn.model_selection import train_test_split\n",
    "from sklearn.linear_model import LinearRegression\n",
    "from sklearn.metrics import mean_squared_error"
   ]
  },
  {
   "cell_type": "markdown",
   "metadata": {},
   "source": [
    "# Coleta de Dados\n",
    "Busque uma base de dados que seja apropriada para um problema de regressão linear simples. A base deve conter pelo menos uma variável dependente e uma variável independente."
   ]
  },
  {
   "cell_type": "code",
   "execution_count": 2,
   "metadata": {},
   "outputs": [
    {
     "data": {
      "text/html": [
       "<div>\n",
       "<style scoped>\n",
       "    .dataframe tbody tr th:only-of-type {\n",
       "        vertical-align: middle;\n",
       "    }\n",
       "\n",
       "    .dataframe tbody tr th {\n",
       "        vertical-align: top;\n",
       "    }\n",
       "\n",
       "    .dataframe thead th {\n",
       "        text-align: right;\n",
       "    }\n",
       "</style>\n",
       "<table border=\"1\" class=\"dataframe\">\n",
       "  <thead>\n",
       "    <tr style=\"text-align: right;\">\n",
       "      <th></th>\n",
       "      <th>Income</th>\n",
       "      <th>Credit Score</th>\n",
       "    </tr>\n",
       "  </thead>\n",
       "  <tbody>\n",
       "    <tr>\n",
       "      <th>0</th>\n",
       "      <td>36000</td>\n",
       "      <td>604</td>\n",
       "    </tr>\n",
       "    <tr>\n",
       "      <th>1</th>\n",
       "      <td>50000</td>\n",
       "      <td>447</td>\n",
       "    </tr>\n",
       "    <tr>\n",
       "      <th>2</th>\n",
       "      <td>178000</td>\n",
       "      <td>850</td>\n",
       "    </tr>\n",
       "    <tr>\n",
       "      <th>3</th>\n",
       "      <td>46000</td>\n",
       "      <td>668</td>\n",
       "    </tr>\n",
       "    <tr>\n",
       "      <th>4</th>\n",
       "      <td>132000</td>\n",
       "      <td>601</td>\n",
       "    </tr>\n",
       "    <tr>\n",
       "      <th>...</th>\n",
       "      <td>...</td>\n",
       "      <td>...</td>\n",
       "    </tr>\n",
       "    <tr>\n",
       "      <th>279851</th>\n",
       "      <td>61000</td>\n",
       "      <td>495</td>\n",
       "    </tr>\n",
       "    <tr>\n",
       "      <th>279852</th>\n",
       "      <td>124000</td>\n",
       "      <td>850</td>\n",
       "    </tr>\n",
       "    <tr>\n",
       "      <th>279853</th>\n",
       "      <td>71000</td>\n",
       "      <td>582</td>\n",
       "    </tr>\n",
       "    <tr>\n",
       "      <th>279854</th>\n",
       "      <td>191000</td>\n",
       "      <td>411</td>\n",
       "    </tr>\n",
       "    <tr>\n",
       "      <th>279855</th>\n",
       "      <td>18000</td>\n",
       "      <td>474</td>\n",
       "    </tr>\n",
       "  </tbody>\n",
       "</table>\n",
       "<p>279856 rows × 2 columns</p>\n",
       "</div>"
      ],
      "text/plain": [
       "        Income  Credit Score\n",
       "0        36000           604\n",
       "1        50000           447\n",
       "2       178000           850\n",
       "3        46000           668\n",
       "4       132000           601\n",
       "...        ...           ...\n",
       "279851   61000           495\n",
       "279852  124000           850\n",
       "279853   71000           582\n",
       "279854  191000           411\n",
       "279855   18000           474\n",
       "\n",
       "[279856 rows x 2 columns]"
      ]
     },
     "execution_count": 2,
     "metadata": {},
     "output_type": "execute_result"
    }
   ],
   "source": [
    "#Essa base de dados contém dados de crédito de pessoas aleatórias\n",
    "#Quero estabelecer uma relação entre o score de crédito da pessoa(variável dependent) com base no seu salário anual(variável independente)\n",
    "\n",
    "df = pd.read_csv('credit_data.csv')\n",
    "df = df[[\"Income\", \"Credit Score\"]]\n",
    "df"
   ]
  },
  {
   "cell_type": "markdown",
   "metadata": {},
   "source": [
    "# Pré-processamento de Dados\n",
    "* **Elementos Faltantes:** Preencha ou remova quaisquer elementos faltantes na base de dados (caso existam).\n",
    "* **Variáveis Categóricas:** Se houver variáveis categóricas, transforme-as em variáveis numéricas.\n",
    "* **Normalização:** Normalize as variáveis se necessário.\n",
    "* **Separação de Dados:** Divida a base em conjuntos de treino e teste."
   ]
  },
  {
   "cell_type": "code",
   "execution_count": 3,
   "metadata": {},
   "outputs": [
    {
     "name": "stdout",
     "output_type": "stream",
     "text": [
      "Elementos faltantes:\n",
      "Income          0\n",
      "Credit Score    0\n",
      "dtype: int64\n"
     ]
    }
   ],
   "source": [
    "print(f\"Elementos faltantes:\\n{df.isna().sum()}\") #Não há elementos faltantes\n",
    "#Não há variáveis categóricas\n",
    "#A normalização nesse caso não é necessária, já que há apenas uma variável independete\n",
    "XTrain, XTest, yTrain, yTest = train_test_split(df[\"Income\"], df[\"Credit Score\"], test_size = 0.8)"
   ]
  },
  {
   "cell_type": "markdown",
   "metadata": {},
   "source": [
    "# Modelagem e Treino\n",
    "Utilize a base de treino para criar e treinar um modelo de regressão linear simples."
   ]
  },
  {
   "cell_type": "code",
   "execution_count": 4,
   "metadata": {},
   "outputs": [
    {
     "data": {
      "text/plain": [
       "LinearRegression()"
      ]
     },
     "execution_count": 4,
     "metadata": {},
     "output_type": "execute_result"
    }
   ],
   "source": [
    "#Regressão Linear\n",
    "regressor = LinearRegression()\n",
    "XTrain = pd.DataFrame(XTrain) #Aqui, o conteúdo de XTrain está em formato unidimensional(série), o método fit do regressor exige que XTrain tenha estrutura bidimensional(dataframe).\n",
    "regressor.fit(XTrain, yTrain)\n",
    "\n"
   ]
  },
  {
   "cell_type": "markdown",
   "metadata": {},
   "source": [
    "# Avaliação de Modelo\n",
    "\n",
    "* Utilize a base de teste para fazer previsões.\n",
    "* Calcule a métrica RMSE (Root Mean Square Error) para avaliar o desempenho do modelo."
   ]
  },
  {
   "cell_type": "code",
   "execution_count": 5,
   "metadata": {},
   "outputs": [
    {
     "name": "stdout",
     "output_type": "stream",
     "text": [
      "        Income  Credit Score    Predição\n",
      "106293   34000           625  548.556543\n",
      "143114  112000           850  613.457951\n",
      "16827   138000           714  635.091754\n",
      "130478   91000           633  595.984495\n",
      "229370   56000           598  566.862068\n",
      "...        ...           ...         ...\n",
      "144373   48000           672  560.205514\n",
      "205376   55000           435  566.029999\n",
      "191100   12000           306  530.251018\n",
      "154507   48000           559  560.205514\n",
      "113735   50000           610  561.869652\n",
      "\n",
      "[223885 rows x 3 columns]\n",
      "RMSE: 159.01081472360744\n"
     ]
    }
   ],
   "source": [
    "XTest = pd.DataFrame(XTest)\n",
    "yPred = regressor.predict(XTest) #Tipo array\n",
    "\n",
    "dfResultado = pd.concat([XTest, yTest], axis=1)\n",
    "dfResultado[\"Predição\"] = yPred\n",
    "print(dfResultado)\n",
    "\n",
    "mse = mean_squared_error(dfResultado[\"Credit Score\"], dfResultado[\"Predição\"])\n",
    "rmse = np.sqrt(mse)\n",
    "print(f\"RMSE: {rmse}\") #Ele quantifica a diferença entre os valores previstos pelo modelo e os valores reais dos dados.\n",
    "\n"
   ]
  },
  {
   "cell_type": "markdown",
   "metadata": {},
   "source": [
    "# Visualização\n",
    "\n",
    "Gere um gráfico plotando os pontos do conjunto de teste e desenhe a reta de regressão gerada pelo modelo."
   ]
  },
  {
   "cell_type": "code",
   "execution_count": 9,
   "metadata": {},
   "outputs": [
    {
     "data": {
      "image/png": "[encoded data removed]",
      "text/plain": [
       "<Figure size 640x480 with 1 Axes>"
      ]
     },
     "metadata": {},
     "output_type": "display_data"
    }
   ],
   "source": [
    "#plt.scatter(dfResultado[\"Income\"], dfResultado[\"Credit Score\"], color = 'red', s=1)\n",
    "plt.scatter(dfResultado[\"Income\"][::100], dfResultado[\"Credit Score\"][::100], color = 'red', s=1) #[inicio:fim:step] 1% das amostras\n",
    "plt.plot(dfResultado[\"Income\"], dfResultado[\"Predição\"], color='blue')\n",
    "plt.title(\"Income(Renda) x Credit Score(Pontuação de crédito)\")\n",
    "plt.xlabel(\"Income(Renda)\")\n",
    "plt.ylabel(\"Credit Score(Pontuação de crédito)\")\n",
    "plt.show()"
   ]
  },
  {
   "cell_type": "markdown",
   "metadata": {},
   "source": [
    "# Relatório\n",
    "\n",
    "## Coleta de dados\n",
    "\n",
    "* A base escolhida contém dados sobre análise de crédito de pessoas indianas. (https://www.kaggle.com/datasets/yashkmd/credit-profile-two-wheeler-loan-dataset)\n",
    "* Nessa base, há diversos dados. Foram escolhidos apenas os dados renda anual(income) e pontuação(score), buscando observar como o score(variável dependente) depende da renda anual(variável independente).\n",
    "\n",
    "## Pré-processamento de Dados\n",
    "\n",
    "* Dados esses dois tipos de dados, não haviam elementos faltantes ou variáveis categóricas. \n",
    "* Como havia apenas um variável independente, não foi necessário normalizá-la. Se houvessem mais de uma seria necessário normalizá-las, pois caso tivessem escalas diferentes, a variável que apresentasse valores maiores iria sobressair sobre a que apresentasse valores menores.\n",
    "* Quanto à separação de dados para treino e teste, não existe uma porcentagem única que seja a ideal para todos os casos, mas como diretrizes gerais, recomenda-se 70/30 ou 80/20, nesse caso, foi escolhido 80/20.\n",
    "\n",
    "## Avaliação de Modelo\n",
    "\n",
    "* Os dados apresentaram muito discrepância, de forma geral.\n",
    "* O valor do RMSE é 159.102, isso quer dizer que, em média, os valores previstos variam em 159.102 para mais ou para menos do valor real.\n",
    "* Considerando que o intervalo de valor do score vai de 300 a 850, esse erro é bem significativo.\n",
    "* Em conclusão, levando em consideração quão pouco preciso foi esse modelo, podemos que concluir que, apenas a renda anual não é um bom parâmetro para medir o score, já que outros fatores também têm grande impacto sobre esse valor e medir apenas com esse parâmetro gera uma taxa de erro considerável.\n",
    "\n",
    "## Visualização:\n",
    "\n",
    "* Vendo o gráfico, podemos perceber o quanto os pontos ficam espalhados, confirmando que de fato, a ligação entre renda anual score é fraca, e seriam necessários levar em conta também outros dados para conseguir prever com maior precisão o valor de Score."
   ]
  }
 ],
 "metadata": {
  "kernelspec": {
   "display_name": "Python 3",
   "language": "python",
   "name": "python3"
  },
  "language_info": {
   "codemirror_mode": {
    "name": "ipython",
    "version": 3
   },
   "file_extension": ".py",
   "mimetype": "text/x-python",
   "name": "python",
   "nbconvert_exporter": "python",
   "pygments_lexer": "ipython3",
   "version": "3.7.3"
  },
  "orig_nbformat": 4
 },
 "nbformat": 4,
 "nbformat_minor": 2
}
